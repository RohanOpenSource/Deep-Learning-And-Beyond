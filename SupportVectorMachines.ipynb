{
  "nbformat": 4,
  "nbformat_minor": 0,
  "metadata": {
    "colab": {
      "name": "SupportVectorMachines.ipynb",
      "provenance": [],
      "collapsed_sections": [],
      "authorship_tag": "ABX9TyNTap9tIXSFsZax1QkPCw51",
      "include_colab_link": true
    },
    "kernelspec": {
      "name": "python3",
      "display_name": "Python 3"
    },
    "language_info": {
      "name": "python"
    }
  },
  "cells": [
    {
      "cell_type": "markdown",
      "metadata": {
        "id": "view-in-github",
        "colab_type": "text"
      },
      "source": [
        "<a href=\"https://colab.research.google.com/github/RohanOpenSource/ml-notebooks/blob/main/SupportVectorMachines.ipynb\" target=\"_parent\"><img src=\"https://colab.research.google.com/assets/colab-badge.svg\" alt=\"Open In Colab\"/></a>"
      ]
    },
    {
      "cell_type": "code",
      "metadata": {
        "id": "lgQORTBycRh0"
      },
      "source": [
        "import numpy as np\n",
        "import matplotlib.pyplot as plt\n",
        "from sklearn import datasets\n",
        "from sklearn.pipeline import Pipeline\n",
        "from sklearn.preprocessing import StandardScaler\n",
        "from sklearn.svm import LinearSVC #Support Vector Classifier"
      ],
      "execution_count": 1,
      "outputs": []
    },
    {
      "cell_type": "code",
      "metadata": {
        "id": "ato6cTpef5c5"
      },
      "source": [
        "iris = datasets.load_iris()\n",
        "X = iris[\"data\"][:, (2, 3)] # this is the petal length and width\n",
        "y = (iris[\"target\"] == 2).astype(np.float64) #boolean of whether the flower is an iris virginica or not as a float 64\n",
        "iris"
      ],
      "execution_count": null,
      "outputs": []
    },
    {
      "cell_type": "code",
      "metadata": {
        "colab": {
          "base_uri": "https://localhost:8080/",
          "height": 265
        },
        "id": "4QWq6bsHgn-A",
        "outputId": "4b65222c-e308-41b4-fba9-b09bd60ade6c"
      },
      "source": [
        "plt.scatter(iris[\"data\"][:,2], iris[\"data\"][:,3])\n",
        "plt.show()"
      ],
      "execution_count": 41,
      "outputs": [
        {
          "output_type": "display_data",
          "data": {
            "image/png": "[encoded data removed]",
            "text/plain": [
              "<Figure size 432x288 with 1 Axes>"
            ]
          },
          "metadata": {
            "tags": [],
            "needs_background": "light"
          }
        }
      ]
    },
    {
      "cell_type": "code",
      "metadata": {
        "colab": {
          "base_uri": "https://localhost:8080/"
        },
        "id": "Fiv-yUoOkvxp",
        "outputId": "7a2a44d2-3c19-4da4-f534-5a2517dd0ddc"
      },
      "source": [
        "y"
      ],
      "execution_count": 36,
      "outputs": [
        {
          "output_type": "execute_result",
          "data": {
            "text/plain": [
              "array([0., 0., 0., 0., 0., 0., 0., 0., 0., 0., 0., 0., 0., 0., 0., 0., 0.,\n",
              "       0., 0., 0., 0., 0., 0., 0., 0., 0., 0., 0., 0., 0., 0., 0., 0., 0.,\n",
              "       0., 0., 0., 0., 0., 0., 0., 0., 0., 0., 0., 0., 0., 0., 0., 0., 0.,\n",
              "       0., 0., 0., 0., 0., 0., 0., 0., 0., 0., 0., 0., 0., 0., 0., 0., 0.,\n",
              "       0., 0., 0., 0., 0., 0., 0., 0., 0., 0., 0., 0., 0., 0., 0., 0., 0.,\n",
              "       0., 0., 0., 0., 0., 0., 0., 0., 0., 0., 0., 0., 0., 0., 0., 1., 1.,\n",
              "       1., 1., 1., 1., 1., 1., 1., 1., 1., 1., 1., 1., 1., 1., 1., 1., 1.,\n",
              "       1., 1., 1., 1., 1., 1., 1., 1., 1., 1., 1., 1., 1., 1., 1., 1., 1.,\n",
              "       1., 1., 1., 1., 1., 1., 1., 1., 1., 1., 1., 1., 1., 1.])"
            ]
          },
          "metadata": {
            "tags": []
          },
          "execution_count": 36
        }
      ]
    },
    {
      "cell_type": "code",
      "metadata": {
        "colab": {
          "base_uri": "https://localhost:8080/"
        },
        "id": "3e5ispjuivHQ",
        "outputId": "ae4c280f-3d0b-431e-8a9b-b05d79afdcc4"
      },
      "source": [
        "model = Pipeline([\n",
        "    (\"scaler\", StandardScaler()),\n",
        "    (\"linear_svc\", LinearSVC(C=1, loss=\"hinge\"))\n",
        "])\n",
        "\n",
        "model.fit(X, y)"
      ],
      "execution_count": 21,
      "outputs": [
        {
          "output_type": "execute_result",
          "data": {
            "text/plain": [
              "Pipeline(memory=None,\n",
              "         steps=[('scaler',\n",
              "                 StandardScaler(copy=True, with_mean=True, with_std=True)),\n",
              "                ('linear_svc',\n",
              "                 LinearSVC(C=1, class_weight=None, dual=True,\n",
              "                           fit_intercept=True, intercept_scaling=1,\n",
              "                           loss='hinge', max_iter=1000, multi_class='ovr',\n",
              "                           penalty='l2', random_state=None, tol=0.0001,\n",
              "                           verbose=0))],\n",
              "         verbose=False)"
            ]
          },
          "metadata": {
            "tags": []
          },
          "execution_count": 21
        }
      ]
    },
    {
      "cell_type": "code",
      "metadata": {
        "colab": {
          "base_uri": "https://localhost:8080/"
        },
        "id": "IY5DWrzojK0Y",
        "outputId": "b5c6e07b-ede9-4ed9-ddf4-f6ff6b2dbf75"
      },
      "source": [
        "model.predict([[5.5, 1.7]])"
      ],
      "execution_count": 22,
      "outputs": [
        {
          "output_type": "execute_result",
          "data": {
            "text/plain": [
              "array([1.])"
            ]
          },
          "metadata": {
            "tags": []
          },
          "execution_count": 22
        }
      ]
    },
    {
      "cell_type": "markdown",
      "metadata": {
        "id": "e54LAXF6q2GX"
      },
      "source": [
        "Support vector machines try to find the support vectors of the data and to find the line as far as both of those support vectors as possible. Since this is a linear svm, the diagram of the support vectors looks something like the below figure \n",
        "Not all datasets can be divided by straight lines like this. Some cannot be divided with a non linear svm either. For these, we can add features to the data, or use kernals to give our svm the ability to classify the data well. This requires a good understanding of the data, and if you or doing so, I would recommend visualizing the data first. There are ofcourse a limited amount of kernals meaning that a neural network is in some cases your only option.\n",
        "\n",
        "![svm.PNG](data:image/png;base64,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)"
      ]
    }
  ]
}