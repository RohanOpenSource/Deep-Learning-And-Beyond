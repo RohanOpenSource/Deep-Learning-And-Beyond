{
  "nbformat": 4,
  "nbformat_minor": 0,
  "metadata": {
    "colab": {
      "name": "ExplodingAndVanishingGradients.ipynb",
      "provenance": [],
      "collapsed_sections": [],
      "authorship_tag": "ABX9TyNt8SKWuBehoElgKE6biQWk",
      "include_colab_link": true
    },
    "kernelspec": {
      "name": "python3",
      "display_name": "Python 3"
    },
    "language_info": {
      "name": "python"
    }
  },
  "cells": [
    {
      "cell_type": "markdown",
      "metadata": {
        "id": "view-in-github",
        "colab_type": "text"
      },
      "source": [
        "<a href=\"https://colab.research.google.com/github/RohanOpenSource/Deep-Learning-And-Beyond/blob/main/ExplodingAndVanishingGradients.ipynb\" target=\"_parent\"><img src=\"https://colab.research.google.com/assets/colab-badge.svg\" alt=\"Open In Colab\"/></a>"
      ]
    },
    {
      "cell_type": "markdown",
      "metadata": {
        "id": "d494qMPGjmfQ"
      },
      "source": [
        "Training neural networks can come with a host of problems that are tricky to combat. The first of these is the exploding and vanishing gradient problem. During backpropogation, gradients can either become progressively smaller, leaving the lower layers of the neural network to remain unchanged, or they can become larger making the neural network not work at all. To have this not happen, we need a similar variance for the inputs of each layer and the outputs. To acheive this, we can randomly initialize the weights with some constraints. This is the basis of Glorot, He, and LeCun intilialization and is what is used by default in Keras."
      ]
    },
    {
      "cell_type": "code",
      "metadata": {
        "id": "814q-eMnje5q"
      },
      "source": [
        "import tensorflow as tf\n",
        "import numpy as np\n",
        "from sklearn.datasets import load_iris"
      ],
      "execution_count": 1,
      "outputs": []
    },
    {
      "cell_type": "code",
      "metadata": {
        "id": "F2wVWiaYoyP1"
      },
      "source": [
        "iris = load_iris() #you know the drill we're using iris\n",
        "X =  iris.data[:, 2:]\n",
        "y = iris.target"
      ],
      "execution_count": 2,
      "outputs": []
    },
    {
      "cell_type": "code",
      "metadata": {
        "colab": {
          "base_uri": "https://localhost:8080/"
        },
        "id": "krfcbMhwpLKd",
        "outputId": "341bb542-8cd0-4d13-b9b7-8ad8223809d8"
      },
      "source": [
        "model = tf.keras.Sequential([\n",
        "    tf.keras.layers.Dense(128, activation=\"sigmoid\", kernel_initializer=tf.keras.initializers.GlorotUniform), \n",
        "    tf.keras.layers.Dense(64, activation=\"sigmoid\", kernel_initializer=tf.keras.initializers.GlorotUniform), \n",
        "    tf.keras.layers.Dense(64, activation=\"sigmoid\", kernel_initializer=tf.keras.initializers.GlorotUniform), \n",
        "    tf.keras.layers.Dense(64, activation=\"sigmoid\", kernel_initializer=tf.keras.initializers.GlorotUniform), \n",
        "    tf.keras.layers.Dense(64, activation=\"sigmoid\", kernel_initializer=tf.keras.initializers.GlorotUniform), \n",
        "    tf.keras.layers.Dense(64, activation=\"sigmoid\", kernel_initializer=tf.keras.initializers.GlorotUniform), \n",
        "    tf.keras.layers.Dense(3, activation=\"softmax\") \n",
        "])\n",
        "model.build([1, 2])\n",
        "model.summary()"
      ],
      "execution_count": 3,
      "outputs": [
        {
          "output_type": "stream",
          "name": "stdout",
          "text": [
            "Model: \"sequential\"\n",
            "_________________________________________________________________\n",
            " Layer (type)                Output Shape              Param #   \n",
            "=================================================================\n",
            " dense (Dense)               (1, 128)                  384       \n",
            "                                                                 \n",
            " dense_1 (Dense)             (1, 64)                   8256      \n",
            "                                                                 \n",
            " dense_2 (Dense)             (1, 64)                   4160      \n",
            "                                                                 \n",
            " dense_3 (Dense)             (1, 64)                   4160      \n",
            "                                                                 \n",
            " dense_4 (Dense)             (1, 64)                   4160      \n",
            "                                                                 \n",
            " dense_5 (Dense)             (1, 64)                   4160      \n",
            "                                                                 \n",
            " dense_6 (Dense)             (1, 3)                    195       \n",
            "                                                                 \n",
            "=================================================================\n",
            "Total params: 25,475\n",
            "Trainable params: 25,475\n",
            "Non-trainable params: 0\n",
            "_________________________________________________________________\n"
          ]
        }
      ]
    },
    {
      "cell_type": "code",
      "metadata": {
        "colab": {
          "base_uri": "https://localhost:8080/"
        },
        "id": "OvMUJY6Fbl_U",
        "outputId": "f05154b5-6a7f-4811-e725-a7852e534b91"
      },
      "source": [
        "model.compile(loss=\"sparse_categorical_crossentropy\", optimizer=\"adam\", metrics=[\"accuracy\"])\n",
        "model.fit(X, y, epochs=30)"
      ],
      "execution_count": 4,
      "outputs": [
        {
          "output_type": "stream",
          "name": "stdout",
          "text": [
            "Epoch 1/30\n",
            "5/5 [==============================] - 2s 7ms/step - loss: 1.3203 - accuracy: 0.3333\n",
            "Epoch 2/30\n",
            "5/5 [==============================] - 0s 10ms/step - loss: 1.1270 - accuracy: 0.3333\n",
            "Epoch 3/30\n",
            "5/5 [==============================] - 0s 8ms/step - loss: 1.0992 - accuracy: 0.3600\n",
            "Epoch 4/30\n",
            "5/5 [==============================] - 0s 6ms/step - loss: 1.1142 - accuracy: 0.3333\n",
            "Epoch 5/30\n",
            "5/5 [==============================] - 0s 6ms/step - loss: 1.1167 - accuracy: 0.3333\n",
            "Epoch 6/30\n",
            "5/5 [==============================] - 0s 9ms/step - loss: 1.1096 - accuracy: 0.3067\n",
            "Epoch 7/30\n",
            "5/5 [==============================] - 0s 9ms/step - loss: 1.1046 - accuracy: 0.3333\n",
            "Epoch 8/30\n",
            "5/5 [==============================] - 0s 8ms/step - loss: 1.0989 - accuracy: 0.3467\n",
            "Epoch 9/30\n",
            "5/5 [==============================] - 0s 6ms/step - loss: 1.0994 - accuracy: 0.3333\n",
            "Epoch 10/30\n",
            "5/5 [==============================] - 0s 6ms/step - loss: 1.1003 - accuracy: 0.3333\n",
            "Epoch 11/30\n",
            "5/5 [==============================] - 0s 9ms/step - loss: 1.0996 - accuracy: 0.4200\n",
            "Epoch 12/30\n",
            "5/5 [==============================] - 0s 10ms/step - loss: 1.0998 - accuracy: 0.3333\n",
            "Epoch 13/30\n",
            "5/5 [==============================] - 0s 7ms/step - loss: 1.0999 - accuracy: 0.3333\n",
            "Epoch 14/30\n",
            "5/5 [==============================] - 0s 6ms/step - loss: 1.0992 - accuracy: 0.3067\n",
            "Epoch 15/30\n",
            "5/5 [==============================] - 0s 6ms/step - loss: 1.0996 - accuracy: 0.2667\n",
            "Epoch 16/30\n",
            "5/5 [==============================] - 0s 6ms/step - loss: 1.0974 - accuracy: 0.5333\n",
            "Epoch 17/30\n",
            "5/5 [==============================] - 0s 7ms/step - loss: 1.1000 - accuracy: 0.3333\n",
            "Epoch 18/30\n",
            "5/5 [==============================] - 0s 6ms/step - loss: 1.0967 - accuracy: 0.3133\n",
            "Epoch 19/30\n",
            "5/5 [==============================] - 0s 6ms/step - loss: 1.0964 - accuracy: 0.3800\n",
            "Epoch 20/30\n",
            "5/5 [==============================] - 0s 6ms/step - loss: 1.0955 - accuracy: 0.4600\n",
            "Epoch 21/30\n",
            "5/5 [==============================] - 0s 5ms/step - loss: 1.0974 - accuracy: 0.3933\n",
            "Epoch 22/30\n",
            "5/5 [==============================] - 0s 6ms/step - loss: 1.0932 - accuracy: 0.3133\n",
            "Epoch 23/30\n",
            "5/5 [==============================] - 0s 5ms/step - loss: 1.0884 - accuracy: 0.4467\n",
            "Epoch 24/30\n",
            "5/5 [==============================] - 0s 7ms/step - loss: 1.0848 - accuracy: 0.6600\n",
            "Epoch 25/30\n",
            "5/5 [==============================] - 0s 8ms/step - loss: 1.0782 - accuracy: 0.6933\n",
            "Epoch 26/30\n",
            "5/5 [==============================] - 0s 14ms/step - loss: 1.0691 - accuracy: 0.6800\n",
            "Epoch 27/30\n",
            "5/5 [==============================] - 0s 8ms/step - loss: 1.0529 - accuracy: 0.6667\n",
            "Epoch 28/30\n",
            "5/5 [==============================] - 0s 7ms/step - loss: 1.0333 - accuracy: 0.6667\n",
            "Epoch 29/30\n",
            "5/5 [==============================] - 0s 5ms/step - loss: 0.9948 - accuracy: 0.6667\n",
            "Epoch 30/30\n",
            "5/5 [==============================] - 0s 8ms/step - loss: 0.9512 - accuracy: 0.7267\n"
          ]
        },
        {
          "output_type": "execute_result",
          "data": {
            "text/plain": [
              "<keras.callbacks.History at 0x7f32ce1e5850>"
            ]
          },
          "metadata": {},
          "execution_count": 4
        }
      ]
    },
    {
      "cell_type": "markdown",
      "source": [
        "As displayed above, changing the weight initlization is not enough to fix vanishing or exploding gradients. This is because activation functions can also be huge contributers to funky gradients.\n",
        " \n",
        "Sigmoid can cause vanishing gradients because it squeezes the weights resulting in insanely small gradients during the end of backpropogation.\n",
        "\n",
        "Relu isn't perfect either as it leads to some neurons always outputting 0, thus becoming obselete (just like pytorch).\n",
        "\n",
        "Rather than making negative numbers 0, leaky relu squashes them quite heavily meaning no neurons become entirely useless (NO NEURONS LEFT BEHIND YAYYYY)."
      ],
      "metadata": {
        "id": "95fkEp5REvyv"
      }
    },
    {
      "cell_type": "code",
      "source": [
        "leaky_relu = tf.keras.layers.LeakyReLU(alpha=0.2)\n",
        "model = tf.keras.Sequential([\n",
        "    tf.keras.layers.Dense(128, activation=leaky_relu, kernel_initializer=\"he_normal\"), \n",
        "    tf.keras.layers.Dense(64, activation=leaky_relu, kernel_initializer=\"he_normal\"), \n",
        "    tf.keras.layers.Dense(64, activation=leaky_relu, kernel_initializer=\"he_normal\"), \n",
        "    tf.keras.layers.Dense(64, activation=leaky_relu, kernel_initializer=\"he_normal\"), \n",
        "    tf.keras.layers.Dense(64, activation=leaky_relu, kernel_initializer=\"he_normal\"), \n",
        "    tf.keras.layers.Dense(64, activation=leaky_relu, kernel_initializer=\"he_normal\"), \n",
        "    tf.keras.layers.Dense(3, activation=\"softmax\")\n",
        "])\n"
      ],
      "metadata": {
        "id": "SH-yuMiSEmdP"
      },
      "execution_count": 5,
      "outputs": []
    },
    {
      "cell_type": "code",
      "source": [
        "model.compile(loss=\"sparse_categorical_crossentropy\", optimizer=\"adam\", metrics=[\"accuracy\"])\n",
        "model.fit(X, y, epochs=60)"
      ],
      "metadata": {
        "colab": {
          "base_uri": "https://localhost:8080/"
        },
        "id": "oypBOi17H3Hs",
        "outputId": "efbfb92c-3d9d-4cfa-c6f9-677f7c412824"
      },
      "execution_count": 6,
      "outputs": [
        {
          "output_type": "stream",
          "name": "stdout",
          "text": [
            "Epoch 1/60\n",
            "5/5 [==============================] - 1s 5ms/step - loss: 3.9875 - accuracy: 0.3133\n",
            "Epoch 2/60\n",
            "5/5 [==============================] - 0s 6ms/step - loss: 1.2109 - accuracy: 0.5600\n",
            "Epoch 3/60\n",
            "5/5 [==============================] - 0s 11ms/step - loss: 0.9194 - accuracy: 0.6200\n",
            "Epoch 4/60\n",
            "5/5 [==============================] - 0s 7ms/step - loss: 0.8432 - accuracy: 0.6600\n",
            "Epoch 5/60\n",
            "5/5 [==============================] - 0s 5ms/step - loss: 0.7465 - accuracy: 0.6867\n",
            "Epoch 6/60\n",
            "5/5 [==============================] - 0s 7ms/step - loss: 0.6870 - accuracy: 0.6533\n",
            "Epoch 7/60\n",
            "5/5 [==============================] - 0s 8ms/step - loss: 0.6196 - accuracy: 0.8400\n",
            "Epoch 8/60\n",
            "5/5 [==============================] - 0s 6ms/step - loss: 0.5674 - accuracy: 0.7467\n",
            "Epoch 9/60\n",
            "5/5 [==============================] - 0s 7ms/step - loss: 0.5053 - accuracy: 0.8333\n",
            "Epoch 10/60\n",
            "5/5 [==============================] - 0s 5ms/step - loss: 0.4880 - accuracy: 0.8400\n",
            "Epoch 11/60\n",
            "5/5 [==============================] - 0s 5ms/step - loss: 0.5141 - accuracy: 0.7400\n",
            "Epoch 12/60\n",
            "5/5 [==============================] - 0s 5ms/step - loss: 0.4711 - accuracy: 0.8333\n",
            "Epoch 13/60\n",
            "5/5 [==============================] - 0s 12ms/step - loss: 0.4254 - accuracy: 0.8133\n",
            "Epoch 14/60\n",
            "5/5 [==============================] - 0s 8ms/step - loss: 0.4108 - accuracy: 0.8267\n",
            "Epoch 15/60\n",
            "5/5 [==============================] - 0s 4ms/step - loss: 0.4516 - accuracy: 0.7933\n",
            "Epoch 16/60\n",
            "5/5 [==============================] - 0s 5ms/step - loss: 0.4839 - accuracy: 0.7200\n",
            "Epoch 17/60\n",
            "5/5 [==============================] - 0s 5ms/step - loss: 0.4211 - accuracy: 0.8333\n",
            "Epoch 18/60\n",
            "5/5 [==============================] - 0s 6ms/step - loss: 0.4156 - accuracy: 0.7733\n",
            "Epoch 19/60\n",
            "5/5 [==============================] - 0s 12ms/step - loss: 0.4086 - accuracy: 0.8600\n",
            "Epoch 20/60\n",
            "5/5 [==============================] - 0s 8ms/step - loss: 0.3942 - accuracy: 0.8067\n",
            "Epoch 21/60\n",
            "5/5 [==============================] - 0s 6ms/step - loss: 0.3740 - accuracy: 0.8333\n",
            "Epoch 22/60\n",
            "5/5 [==============================] - 0s 7ms/step - loss: 0.3549 - accuracy: 0.8467\n",
            "Epoch 23/60\n",
            "5/5 [==============================] - 0s 8ms/step - loss: 0.3771 - accuracy: 0.8467\n",
            "Epoch 24/60\n",
            "5/5 [==============================] - 0s 8ms/step - loss: 0.3754 - accuracy: 0.8267\n",
            "Epoch 25/60\n",
            "5/5 [==============================] - 0s 6ms/step - loss: 0.3432 - accuracy: 0.8400\n",
            "Epoch 26/60\n",
            "5/5 [==============================] - 0s 6ms/step - loss: 0.3476 - accuracy: 0.8667\n",
            "Epoch 27/60\n",
            "5/5 [==============================] - 0s 7ms/step - loss: 0.3416 - accuracy: 0.8267\n",
            "Epoch 28/60\n",
            "5/5 [==============================] - 0s 7ms/step - loss: 0.3394 - accuracy: 0.8733\n",
            "Epoch 29/60\n",
            "5/5 [==============================] - 0s 7ms/step - loss: 0.3843 - accuracy: 0.7933\n",
            "Epoch 30/60\n",
            "5/5 [==============================] - 0s 10ms/step - loss: 0.3672 - accuracy: 0.8333\n",
            "Epoch 31/60\n",
            "5/5 [==============================] - 0s 9ms/step - loss: 0.3583 - accuracy: 0.8133\n",
            "Epoch 32/60\n",
            "5/5 [==============================] - 0s 5ms/step - loss: 0.3303 - accuracy: 0.8533\n",
            "Epoch 33/60\n",
            "5/5 [==============================] - 0s 8ms/step - loss: 0.3166 - accuracy: 0.8733\n",
            "Epoch 34/60\n",
            "5/5 [==============================] - 0s 7ms/step - loss: 0.3155 - accuracy: 0.8533\n",
            "Epoch 35/60\n",
            "5/5 [==============================] - 0s 6ms/step - loss: 0.3086 - accuracy: 0.8667\n",
            "Epoch 36/60\n",
            "5/5 [==============================] - 0s 6ms/step - loss: 0.2947 - accuracy: 0.8600\n",
            "Epoch 37/60\n",
            "5/5 [==============================] - 0s 11ms/step - loss: 0.2965 - accuracy: 0.8667\n",
            "Epoch 38/60\n",
            "5/5 [==============================] - 0s 8ms/step - loss: 0.2859 - accuracy: 0.8800\n",
            "Epoch 39/60\n",
            "5/5 [==============================] - 0s 9ms/step - loss: 0.2781 - accuracy: 0.8800\n",
            "Epoch 40/60\n",
            "5/5 [==============================] - 0s 18ms/step - loss: 0.2780 - accuracy: 0.8933\n",
            "Epoch 41/60\n",
            "5/5 [==============================] - 0s 9ms/step - loss: 0.3004 - accuracy: 0.8733\n",
            "Epoch 42/60\n",
            "5/5 [==============================] - 0s 10ms/step - loss: 0.3558 - accuracy: 0.8200\n",
            "Epoch 43/60\n",
            "5/5 [==============================] - 0s 8ms/step - loss: 0.3449 - accuracy: 0.8400\n",
            "Epoch 44/60\n",
            "5/5 [==============================] - 0s 6ms/step - loss: 0.3382 - accuracy: 0.8400\n",
            "Epoch 45/60\n",
            "5/5 [==============================] - 0s 5ms/step - loss: 0.3447 - accuracy: 0.8333\n",
            "Epoch 46/60\n",
            "5/5 [==============================] - 0s 6ms/step - loss: 0.3055 - accuracy: 0.8467\n",
            "Epoch 47/60\n",
            "5/5 [==============================] - 0s 6ms/step - loss: 0.3041 - accuracy: 0.8667\n",
            "Epoch 48/60\n",
            "5/5 [==============================] - 0s 5ms/step - loss: 0.2958 - accuracy: 0.9133\n",
            "Epoch 49/60\n",
            "5/5 [==============================] - 0s 5ms/step - loss: 0.3060 - accuracy: 0.8600\n",
            "Epoch 50/60\n",
            "5/5 [==============================] - 0s 8ms/step - loss: 0.2545 - accuracy: 0.8933\n",
            "Epoch 51/60\n",
            "5/5 [==============================] - 0s 6ms/step - loss: 0.2836 - accuracy: 0.8600\n",
            "Epoch 52/60\n",
            "5/5 [==============================] - 0s 5ms/step - loss: 0.2578 - accuracy: 0.8867\n",
            "Epoch 53/60\n",
            "5/5 [==============================] - 0s 7ms/step - loss: 0.2366 - accuracy: 0.9000\n",
            "Epoch 54/60\n",
            "5/5 [==============================] - 0s 6ms/step - loss: 0.2464 - accuracy: 0.8867\n",
            "Epoch 55/60\n",
            "5/5 [==============================] - 0s 7ms/step - loss: 0.2376 - accuracy: 0.9200\n",
            "Epoch 56/60\n",
            "5/5 [==============================] - 0s 7ms/step - loss: 0.2740 - accuracy: 0.8800\n",
            "Epoch 57/60\n",
            "5/5 [==============================] - 0s 9ms/step - loss: 0.3807 - accuracy: 0.8000\n",
            "Epoch 58/60\n",
            "5/5 [==============================] - 0s 12ms/step - loss: 0.3068 - accuracy: 0.8200\n",
            "Epoch 59/60\n",
            "5/5 [==============================] - 0s 10ms/step - loss: 0.2590 - accuracy: 0.9000\n",
            "Epoch 60/60\n",
            "5/5 [==============================] - 0s 6ms/step - loss: 0.2632 - accuracy: 0.8867\n"
          ]
        },
        {
          "output_type": "execute_result",
          "data": {
            "text/plain": [
              "<keras.callbacks.History at 0x7f32ce15f510>"
            ]
          },
          "metadata": {},
          "execution_count": 6
        }
      ]
    },
    {
      "cell_type": "markdown",
      "metadata": {
        "id": "owAYWArLxcFq"
      },
      "source": [
        "Sometimes, EVEN ALL OF THIS NONSENSE IS NOT ENOUGH TO END THE WRATH OF THE FUNKY GRADIENT. In such cases, Batch Normalization normalizes, centers, shifts, and scales mini-batches of inputs of the layer before it allowing the model to learn the optimal scale for its data. This reduces the variance between layers and if used as the first layer, can remove the need to normalize the data before hand."
      ]
    },
    {
      "cell_type": "code",
      "metadata": {
        "id": "HyDhTPsHtbJC",
        "colab": {
          "base_uri": "https://localhost:8080/"
        },
        "outputId": "b5b5a70a-7aa6-4d71-96ae-b65111994994"
      },
      "source": [
        "fashion_mnist = tf.keras.datasets.fashion_mnist\n",
        "(X_train_full, y_train_full), (X_test, y_test) = fashion_mnist.load_data()\n",
        "X_valid, X_train = X_train_full[:5000] /  255.0, X_train_full[5000:] / 255.0\n",
        "y_valid, y_train = y_train_full[:5000], y_train_full[5000:]\n",
        "X_test = X_test / 255.0"
      ],
      "execution_count": 7,
      "outputs": [
        {
          "output_type": "stream",
          "name": "stdout",
          "text": [
            "Downloading data from https://storage.googleapis.com/tensorflow/tf-keras-datasets/train-labels-idx1-ubyte.gz\n",
            "32768/29515 [=================================] - 0s 0us/step\n",
            "40960/29515 [=========================================] - 0s 0us/step\n",
            "Downloading data from https://storage.googleapis.com/tensorflow/tf-keras-datasets/train-images-idx3-ubyte.gz\n",
            "26427392/26421880 [==============================] - 0s 0us/step\n",
            "26435584/26421880 [==============================] - 0s 0us/step\n",
            "Downloading data from https://storage.googleapis.com/tensorflow/tf-keras-datasets/t10k-labels-idx1-ubyte.gz\n",
            "16384/5148 [===============================================================================================] - 0s 0us/step\n",
            "Downloading data from https://storage.googleapis.com/tensorflow/tf-keras-datasets/t10k-images-idx3-ubyte.gz\n",
            "4423680/4422102 [==============================] - 0s 0us/step\n",
            "4431872/4422102 [==============================] - 0s 0us/step\n"
          ]
        }
      ]
    },
    {
      "cell_type": "code",
      "metadata": {
        "id": "EXP7OJhtxrwu",
        "colab": {
          "base_uri": "https://localhost:8080/"
        },
        "outputId": "f2862073-7bc7-4af1-f9c6-585ce0b84c30"
      },
      "source": [
        "model = tf.keras.models.Sequential([\n",
        "    tf.keras.layers.Flatten(input_shape=[28, 28]),\n",
        "    tf.keras.layers.BatchNormalization(),\n",
        "    tf.keras.layers.Dense(50, activation=\"elu\", kernel_initializer=\"he_normal\"), #elu is like a combination of relu (x>=0) and an exponential function (x<0), its great but quite slow\n",
        "    tf.keras.layers.BatchNormalization(),\n",
        "    tf.keras.layers.Dense(50, activation=\"elu\", kernel_initializer=\"he_normal\"), \n",
        "    tf.keras.layers.BatchNormalization(),\n",
        "    tf.keras.layers.Dense(50, activation=\"elu\", kernel_initializer=\"he_normal\"), \n",
        "    tf.keras.layers.Dense(10, activation=\"softmax\")\n",
        "])\n",
        "\n",
        "model.summary()"
      ],
      "execution_count": 8,
      "outputs": [
        {
          "output_type": "stream",
          "name": "stdout",
          "text": [
            "Model: \"sequential_2\"\n",
            "_________________________________________________________________\n",
            " Layer (type)                Output Shape              Param #   \n",
            "=================================================================\n",
            " flatten (Flatten)           (None, 784)               0         \n",
            "                                                                 \n",
            " batch_normalization (BatchN  (None, 784)              3136      \n",
            " ormalization)                                                   \n",
            "                                                                 \n",
            " dense_14 (Dense)            (None, 50)                39250     \n",
            "                                                                 \n",
            " batch_normalization_1 (Batc  (None, 50)               200       \n",
            " hNormalization)                                                 \n",
            "                                                                 \n",
            " dense_15 (Dense)            (None, 50)                2550      \n",
            "                                                                 \n",
            " batch_normalization_2 (Batc  (None, 50)               200       \n",
            " hNormalization)                                                 \n",
            "                                                                 \n",
            " dense_16 (Dense)            (None, 50)                2550      \n",
            "                                                                 \n",
            " dense_17 (Dense)            (None, 10)                510       \n",
            "                                                                 \n",
            "=================================================================\n",
            "Total params: 48,396\n",
            "Trainable params: 46,628\n",
            "Non-trainable params: 1,768\n",
            "_________________________________________________________________\n"
          ]
        }
      ]
    },
    {
      "cell_type": "code",
      "metadata": {
        "colab": {
          "base_uri": "https://localhost:8080/"
        },
        "id": "5NqTv9HwUxk0",
        "outputId": "e1e59b60-53b9-437f-944e-f215e3965f51"
      },
      "source": [
        "model.compile(optimizer=\"adam\", loss=\"sparse_categorical_crossentropy\", metrics=[\"accuracy\"])\n",
        "model.fit(X_train, y_train, epochs=10, validation_data=(X_valid, y_valid)) # most resonable people would use more epochs but I've got romance novels to read so shut up"
      ],
      "execution_count": 9,
      "outputs": [
        {
          "output_type": "stream",
          "name": "stdout",
          "text": [
            "Epoch 1/10\n",
            "1719/1719 [==============================] - 8s 4ms/step - loss: 0.4958 - accuracy: 0.8225 - val_loss: 0.3737 - val_accuracy: 0.8670\n",
            "Epoch 2/10\n",
            "1719/1719 [==============================] - 9s 5ms/step - loss: 0.3819 - accuracy: 0.8601 - val_loss: 0.3459 - val_accuracy: 0.8746\n",
            "Epoch 3/10\n",
            "1719/1719 [==============================] - 6s 4ms/step - loss: 0.3485 - accuracy: 0.8715 - val_loss: 0.3189 - val_accuracy: 0.8854\n",
            "Epoch 4/10\n",
            "1719/1719 [==============================] - 6s 4ms/step - loss: 0.3273 - accuracy: 0.8788 - val_loss: 0.3056 - val_accuracy: 0.8888\n",
            "Epoch 5/10\n",
            "1719/1719 [==============================] - 6s 4ms/step - loss: 0.3104 - accuracy: 0.8846 - val_loss: 0.3211 - val_accuracy: 0.8862\n",
            "Epoch 6/10\n",
            "1719/1719 [==============================] - 6s 4ms/step - loss: 0.2998 - accuracy: 0.8881 - val_loss: 0.3201 - val_accuracy: 0.8834\n",
            "Epoch 7/10\n",
            "1719/1719 [==============================] - 6s 4ms/step - loss: 0.2884 - accuracy: 0.8933 - val_loss: 0.2969 - val_accuracy: 0.8938\n",
            "Epoch 8/10\n",
            "1719/1719 [==============================] - 6s 4ms/step - loss: 0.2794 - accuracy: 0.8959 - val_loss: 0.2993 - val_accuracy: 0.8952\n",
            "Epoch 9/10\n",
            "1719/1719 [==============================] - 6s 3ms/step - loss: 0.2728 - accuracy: 0.8969 - val_loss: 0.2996 - val_accuracy: 0.8940\n",
            "Epoch 10/10\n",
            "1719/1719 [==============================] - 6s 4ms/step - loss: 0.2626 - accuracy: 0.9022 - val_loss: 0.3070 - val_accuracy: 0.8916\n"
          ]
        },
        {
          "output_type": "execute_result",
          "data": {
            "text/plain": [
              "<keras.callbacks.History at 0x7f32cdfd4990>"
            ]
          },
          "metadata": {},
          "execution_count": 9
        }
      ]
    },
    {
      "cell_type": "markdown",
      "source": [
        "Now what would be the fun"
      ],
      "metadata": {
        "id": "_-Rq4VdLONom"
      }
    },
    {
      "cell_type": "markdown",
      "metadata": {
        "id": "JWuKHsxhXkI6"
      },
      "source": [
        "One can avoid exploding gradients by clippping the gradients before they become too big, during backpropogation. This is called gradient clipping and is quite effective and easy to use. "
      ]
    },
    {
      "cell_type": "code",
      "metadata": {
        "colab": {
          "base_uri": "https://localhost:8080/"
        },
        "id": "ClO-o1KbX_GP",
        "outputId": "66ea676a-d752-4215-dfe9-138563277ae7"
      },
      "source": [
        "optimizer = tf.keras.optimizers.SGD(clipvalue=1.0)\n",
        "model.compile(loss = \"sparse_categorical_crossentropy\", optimizer=optimizer, metrics=[\"accuracy\"])\n",
        "model.fit(X_train, y_train, epochs=5, validation_data=(X_valid, y_valid))"
      ],
      "execution_count": 10,
      "outputs": [
        {
          "output_type": "stream",
          "name": "stdout",
          "text": [
            "Epoch 1/5\n",
            "1719/1719 [==============================] - 6s 3ms/step - loss: 0.2260 - accuracy: 0.9155 - val_loss: 0.2897 - val_accuracy: 0.8982\n",
            "Epoch 2/5\n",
            "1719/1719 [==============================] - 5s 3ms/step - loss: 0.2207 - accuracy: 0.9177 - val_loss: 0.2904 - val_accuracy: 0.8968\n",
            "Epoch 3/5\n",
            "1719/1719 [==============================] - 6s 4ms/step - loss: 0.2173 - accuracy: 0.9183 - val_loss: 0.2879 - val_accuracy: 0.8974\n",
            "Epoch 4/5\n",
            "1719/1719 [==============================] - 5s 3ms/step - loss: 0.2133 - accuracy: 0.9203 - val_loss: 0.2857 - val_accuracy: 0.8976\n",
            "Epoch 5/5\n",
            "1719/1719 [==============================] - 5s 3ms/step - loss: 0.2131 - accuracy: 0.9202 - val_loss: 0.2898 - val_accuracy: 0.8942\n"
          ]
        },
        {
          "output_type": "execute_result",
          "data": {
            "text/plain": [
              "<keras.callbacks.History at 0x7f32d1b95f50>"
            ]
          },
          "metadata": {},
          "execution_count": 10
        }
      ]
    },
    {
      "cell_type": "markdown",
      "source": [
        "That's all for this notebook. I'm eternally greatful to finally be back in the game after a year long hiatus caused by school and poor time management. I realized that pursuing coding is a possible side activity and is more important to me than doing well in school(even though I am and will probably continue to)."
      ],
      "metadata": {
        "id": "EZaeZiZ5ZbJe"
      }
    }
  ]
}