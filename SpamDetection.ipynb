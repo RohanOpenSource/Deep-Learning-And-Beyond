{
  "nbformat": 4,
  "nbformat_minor": 0,
  "metadata": {
    "colab": {
      "name": "SpamDetection.ipynb",
      "provenance": [],
      "collapsed_sections": [],
      "authorship_tag": "ABX9TyPKuwqbIsPbltvs096SUqh/",
      "include_colab_link": true
    },
    "kernelspec": {
      "name": "python3",
      "display_name": "Python 3"
    },
    "language_info": {
      "name": "python"
    }
  },
  "cells": [
    {
      "cell_type": "markdown",
      "metadata": {
        "id": "view-in-github",
        "colab_type": "text"
      },
      "source": [
        "<a href=\"https://colab.research.google.com/github/RohanOpenSource/ml-notebooks/blob/main/SpamDetection.ipynb\" target=\"_parent\"><img src=\"https://colab.research.google.com/assets/colab-badge.svg\" alt=\"Open In Colab\"/></a>"
      ]
    },
    {
      "cell_type": "markdown",
      "metadata": {
        "id": "qzqyQ5VdD-Fu"
      },
      "source": [
        "This will be a short notebook with no annotations. I just wanted to make a quick text-based model today."
      ]
    },
    {
      "cell_type": "code",
      "metadata": {
        "id": "UoEpqTnT4TlN"
      },
      "source": [
        "import numpy as np\n",
        "import tensorflow as tf\n",
        "import pandas as pd"
      ],
      "execution_count": 3,
      "outputs": []
    },
    {
      "cell_type": "code",
      "metadata": {
        "colab": {
          "base_uri": "https://localhost:8080/"
        },
        "id": "_cfwwgUJ4xnj",
        "outputId": "f0339fc4-5660-4258-9192-21653b8314e5"
      },
      "source": [
        "Data = pd.read_csv(\"/content/spam_or_not_spam.csv\")\n",
        "Data.info, Data.shape"
      ],
      "execution_count": 4,
      "outputs": [
        {
          "output_type": "execute_result",
          "data": {
            "text/plain": [
              "(<bound method DataFrame.info of                                                   email  label\n",
              " 0      date wed NUMBER aug NUMBER NUMBER NUMBER NUMB...      0\n",
              " 1     martin a posted tassos papadopoulos the greek ...      0\n",
              " 2     man threatens explosion in moscow thursday aug...      0\n",
              " 3     klez the virus that won t die already the most...      0\n",
              " 4      in adding cream to spaghetti carbonara which ...      0\n",
              " ...                                                 ...    ...\n",
              " 2995   abc s good morning america ranks it the NUMBE...      1\n",
              " 2996   hyperlink hyperlink hyperlink let mortgage le...      1\n",
              " 2997   thank you for shopping with us gifts for all ...      1\n",
              " 2998   the famous ebay marketing e course learn to s...      1\n",
              " 2999   hello this is chinese traditional 子 件 NUMBER世...      1\n",
              " \n",
              " [3000 rows x 2 columns]>, (3000, 2))"
            ]
          },
          "metadata": {},
          "execution_count": 4
        }
      ]
    },
    {
      "cell_type": "code",
      "metadata": {
        "colab": {
          "base_uri": "https://localhost:8080/",
          "height": 204
        },
        "id": "18QwxFYJ47iY",
        "outputId": "8b6b51f2-2800-46b5-c856-48bc9990d711"
      },
      "source": [
        "Data.head()"
      ],
      "execution_count": 5,
      "outputs": [
        {
          "output_type": "execute_result",
          "data": {
            "text/html": [
              "<div>\n",
              "<style scoped>\n",
              "    .dataframe tbody tr th:only-of-type {\n",
              "        vertical-align: middle;\n",
              "    }\n",
              "\n",
              "    .dataframe tbody tr th {\n",
              "        vertical-align: top;\n",
              "    }\n",
              "\n",
              "    .dataframe thead th {\n",
              "        text-align: right;\n",
              "    }\n",
              "</style>\n",
              "<table border=\"1\" class=\"dataframe\">\n",
              "  <thead>\n",
              "    <tr style=\"text-align: right;\">\n",
              "      <th></th>\n",
              "      <th>email</th>\n",
              "      <th>label</th>\n",
              "    </tr>\n",
              "  </thead>\n",
              "  <tbody>\n",
              "    <tr>\n",
              "      <th>0</th>\n",
              "      <td>date wed NUMBER aug NUMBER NUMBER NUMBER NUMB...</td>\n",
              "      <td>0</td>\n",
              "    </tr>\n",
              "    <tr>\n",
              "      <th>1</th>\n",
              "      <td>martin a posted tassos papadopoulos the greek ...</td>\n",
              "      <td>0</td>\n",
              "    </tr>\n",
              "    <tr>\n",
              "      <th>2</th>\n",
              "      <td>man threatens explosion in moscow thursday aug...</td>\n",
              "      <td>0</td>\n",
              "    </tr>\n",
              "    <tr>\n",
              "      <th>3</th>\n",
              "      <td>klez the virus that won t die already the most...</td>\n",
              "      <td>0</td>\n",
              "    </tr>\n",
              "    <tr>\n",
              "      <th>4</th>\n",
              "      <td>in adding cream to spaghetti carbonara which ...</td>\n",
              "      <td>0</td>\n",
              "    </tr>\n",
              "  </tbody>\n",
              "</table>\n",
              "</div>"
            ],
            "text/plain": [
              "                                               email  label\n",
              "0   date wed NUMBER aug NUMBER NUMBER NUMBER NUMB...      0\n",
              "1  martin a posted tassos papadopoulos the greek ...      0\n",
              "2  man threatens explosion in moscow thursday aug...      0\n",
              "3  klez the virus that won t die already the most...      0\n",
              "4   in adding cream to spaghetti carbonara which ...      0"
            ]
          },
          "metadata": {},
          "execution_count": 5
        }
      ]
    },
    {
      "cell_type": "code",
      "metadata": {
        "id": "Ajt00pO05S9U",
        "colab": {
          "base_uri": "https://localhost:8080/"
        },
        "outputId": "4e7314cb-26de-47fc-b99e-536e7f47ca9a"
      },
      "source": [
        "from sklearn.model_selection import train_test_split\n",
        "Data.dropna()\n",
        "train_data, test_data = train_test_split(Data, test_size = 0.2)\n",
        "X_train = train_data.email\n",
        "X_test = test_data.email\n",
        "y_train, y_test = train_data.label, test_data.label\n",
        "X_train = X_train.astype(np.str)\n",
        "X_test = X_test.astype(np.str)\n",
        "X_train.head"
      ],
      "execution_count": 15,
      "outputs": [
        {
          "output_type": "execute_result",
          "data": {
            "text/plain": [
              "<bound method NDFrame.head of 1516    update of cvsroot spamassassin spamassassin t ...\n",
              "1375    now that i have spam assassin and mailscanner ...\n",
              "1916    url URL date wed NUMBER sep NUMBER NUMBER NUMB...\n",
              "2902     this message was sent by express direct email...\n",
              "1471     this may be a little off topic but thought pe...\n",
              "                              ...                        \n",
              "1817     forwarded by rob windsor windsor warthog com ...\n",
              "360      for example take the recent cbc olympics site...\n",
              "273     quoting paul linehan plinehan yahoo com the po...\n",
              "714      in a message dated NUMBER NUMBER NUMBER NUMBE...\n",
              "1892    url URL date not supplied ben hammersley posts...\n",
              "Name: email, Length: 2400, dtype: object>"
            ]
          },
          "metadata": {},
          "execution_count": 15
        }
      ]
    },
    {
      "cell_type": "code",
      "metadata": {
        "id": "0r2gXVlGIboU"
      },
      "source": [
        "import tensorflow.keras.preprocessing.text as tf_text\n",
        "import tensorflow.keras.preprocessing.sequence as seq\n",
        "tokenizer = tf_text.Tokenizer(num_words=20, oov_token='<OOV>')\n",
        "tokenizer.fit_on_texts(X_train)\n",
        "word_index=tokenizer.word_index\n",
        "sequences=tokenizer.texts_to_sequences(X_train)\n",
        "padded=seq.pad_sequences(sequences, maxlen=7, truncating='post')"
      ],
      "execution_count": 7,
      "outputs": []
    },
    {
      "cell_type": "code",
      "metadata": {
        "id": "WjHKjvfd6YQg"
      },
      "source": [
        "model = tf.keras.Sequential([\n",
        "    tf.keras.layers.Dense(256, activation=\"relu\"),\n",
        "    tf.keras.layers.Dense(128, activation=\"relu\"),\n",
        "    tf.keras.layers.Dense(128, activation=\"relu\"),\n",
        "    tf.keras.layers.Dense(128, activation=\"relu\"),\n",
        "    tf.keras.layers.Dense(2, activation=\"softmax\")\n",
        "])"
      ],
      "execution_count": 8,
      "outputs": []
    },
    {
      "cell_type": "code",
      "metadata": {
        "id": "QMmWjVJNT7SD",
        "colab": {
          "base_uri": "https://localhost:8080/"
        },
        "outputId": "ad4ae282-c9d3-48bb-b6b9-a91dabd3004b"
      },
      "source": [
        "model.compile(loss=\"sparse_categorical_crossentropy\", optimizer=\"adam\", metrics=[\"accuracy\"])\n",
        "model.fit(padded, y_train, epochs=30)"
      ],
      "execution_count": 9,
      "outputs": [
        {
          "output_type": "stream",
          "text": [
            "Epoch 1/30\n",
            "75/75 [==============================] - 1s 2ms/step - loss: 0.4361 - accuracy: 0.8250\n",
            "Epoch 2/30\n",
            "75/75 [==============================] - 0s 2ms/step - loss: 0.3889 - accuracy: 0.8329\n",
            "Epoch 3/30\n",
            "75/75 [==============================] - 0s 2ms/step - loss: 0.3803 - accuracy: 0.8342\n",
            "Epoch 4/30\n",
            "75/75 [==============================] - 0s 2ms/step - loss: 0.3763 - accuracy: 0.8379\n",
            "Epoch 5/30\n",
            "75/75 [==============================] - 0s 2ms/step - loss: 0.3750 - accuracy: 0.8375\n",
            "Epoch 6/30\n",
            "75/75 [==============================] - 0s 2ms/step - loss: 0.3723 - accuracy: 0.8396\n",
            "Epoch 7/30\n",
            "75/75 [==============================] - 0s 2ms/step - loss: 0.3661 - accuracy: 0.8413\n",
            "Epoch 8/30\n",
            "75/75 [==============================] - 0s 2ms/step - loss: 0.3635 - accuracy: 0.8350\n",
            "Epoch 9/30\n",
            "75/75 [==============================] - 0s 2ms/step - loss: 0.3640 - accuracy: 0.8408\n",
            "Epoch 10/30\n",
            "75/75 [==============================] - 0s 2ms/step - loss: 0.3566 - accuracy: 0.8433\n",
            "Epoch 11/30\n",
            "75/75 [==============================] - 0s 2ms/step - loss: 0.3538 - accuracy: 0.8425\n",
            "Epoch 12/30\n",
            "75/75 [==============================] - 0s 2ms/step - loss: 0.3471 - accuracy: 0.8450\n",
            "Epoch 13/30\n",
            "75/75 [==============================] - 0s 2ms/step - loss: 0.3481 - accuracy: 0.8425\n",
            "Epoch 14/30\n",
            "75/75 [==============================] - 0s 2ms/step - loss: 0.3410 - accuracy: 0.8475\n",
            "Epoch 15/30\n",
            "75/75 [==============================] - 0s 2ms/step - loss: 0.3470 - accuracy: 0.8442\n",
            "Epoch 16/30\n",
            "75/75 [==============================] - 0s 2ms/step - loss: 0.3382 - accuracy: 0.8479\n",
            "Epoch 17/30\n",
            "75/75 [==============================] - 0s 2ms/step - loss: 0.3373 - accuracy: 0.8500\n",
            "Epoch 18/30\n",
            "75/75 [==============================] - 0s 2ms/step - loss: 0.3326 - accuracy: 0.8512\n",
            "Epoch 19/30\n",
            "75/75 [==============================] - 0s 2ms/step - loss: 0.3253 - accuracy: 0.8567\n",
            "Epoch 20/30\n",
            "75/75 [==============================] - 0s 2ms/step - loss: 0.3255 - accuracy: 0.8537\n",
            "Epoch 21/30\n",
            "75/75 [==============================] - 0s 2ms/step - loss: 0.3234 - accuracy: 0.8529\n",
            "Epoch 22/30\n",
            "75/75 [==============================] - 0s 2ms/step - loss: 0.3208 - accuracy: 0.8587\n",
            "Epoch 23/30\n",
            "75/75 [==============================] - 0s 2ms/step - loss: 0.3160 - accuracy: 0.8562\n",
            "Epoch 24/30\n",
            "75/75 [==============================] - 0s 2ms/step - loss: 0.3088 - accuracy: 0.8587\n",
            "Epoch 25/30\n",
            "75/75 [==============================] - 0s 2ms/step - loss: 0.3167 - accuracy: 0.8596\n",
            "Epoch 26/30\n",
            "75/75 [==============================] - 0s 2ms/step - loss: 0.3051 - accuracy: 0.8621\n",
            "Epoch 27/30\n",
            "75/75 [==============================] - 0s 2ms/step - loss: 0.3085 - accuracy: 0.8592\n",
            "Epoch 28/30\n",
            "75/75 [==============================] - 0s 2ms/step - loss: 0.3079 - accuracy: 0.8633\n",
            "Epoch 29/30\n",
            "75/75 [==============================] - 0s 2ms/step - loss: 0.3014 - accuracy: 0.8600\n",
            "Epoch 30/30\n",
            "75/75 [==============================] - 0s 2ms/step - loss: 0.2961 - accuracy: 0.8650\n"
          ],
          "name": "stdout"
        },
        {
          "output_type": "execute_result",
          "data": {
            "text/plain": [
              "<keras.callbacks.History at 0x7fafef17de10>"
            ]
          },
          "metadata": {},
          "execution_count": 9
        }
      ]
    },
    {
      "cell_type": "code",
      "metadata": {
        "colab": {
          "base_uri": "https://localhost:8080/"
        },
        "id": "ZTHocYtCCYFw",
        "outputId": "6a5d9322-a163-4a51-e3c6-edb4d2cc5f2a"
      },
      "source": [
        "y_test.shape"
      ],
      "execution_count": 10,
      "outputs": [
        {
          "output_type": "execute_result",
          "data": {
            "text/plain": [
              "(600,)"
            ]
          },
          "metadata": {},
          "execution_count": 10
        }
      ]
    },
    {
      "cell_type": "code",
      "metadata": {
        "colab": {
          "base_uri": "https://localhost:8080/"
        },
        "id": "L7295v5oBJ9H",
        "outputId": "f41403c9-3e1a-428a-b9c3-70d3bacfd84f"
      },
      "source": [
        "test_sequences=tokenizer.texts_to_sequences(X_test)\n",
        "test_padded=seq.pad_sequences(test_sequences, maxlen=7, truncating='post')\n",
        "model.evaluate(test_padded, y_test)"
      ],
      "execution_count": 16,
      "outputs": [
        {
          "output_type": "stream",
          "text": [
            "19/19 [==============================] - 0s 1ms/step - loss: 0.2779 - accuracy: 0.8850\n"
          ],
          "name": "stdout"
        },
        {
          "output_type": "execute_result",
          "data": {
            "text/plain": [
              "[0.27791228890419006, 0.8849999904632568]"
            ]
          },
          "metadata": {},
          "execution_count": 16
        }
      ]
    }
  ]
}