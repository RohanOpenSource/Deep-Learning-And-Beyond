{
  "nbformat": 4,
  "nbformat_minor": 0,
  "metadata": {
    "colab": {
      "name": "Regression.ipynb",
      "provenance": [],
      "collapsed_sections": [],
      "authorship_tag": "ABX9TyN3qzPAHysXMMdTnJslfv5l",
      "include_colab_link": true
    },
    "kernelspec": {
      "name": "python3",
      "display_name": "Python 3"
    },
    "language_info": {
      "name": "python"
    }
  },
  "cells": [
    {
      "cell_type": "markdown",
      "metadata": {
        "id": "view-in-github",
        "colab_type": "text"
      },
      "source": [
        "<a href=\"https://colab.research.google.com/github/RohanOpenSource/ml-notebooks/blob/main/Regression.ipynb\" target=\"_parent\"><img src=\"https://colab.research.google.com/assets/colab-badge.svg\" alt=\"Open In Colab\"/></a>"
      ]
    },
    {
      "cell_type": "code",
      "metadata": {
        "id": "YtAg6KgqlY0v"
      },
      "source": [
        "import tensorflow as tf\n",
        "from tensorflow import keras\n",
        "import numpy as np\n",
        "import matplotlib.pyplot as plt"
      ],
      "execution_count": 2,
      "outputs": []
    },
    {
      "cell_type": "code",
      "metadata": {
        "colab": {
          "base_uri": "https://localhost:8080/",
          "height": 282
        },
        "id": "vN7_BYZ-n6_-",
        "outputId": "3ba392e1-29ec-477d-d089-7cee4f5506c8"
      },
      "source": [
        "X = np.array([-7.0, -4.0, -1.0, 2.0, 5.0, 8.0, 11.0])\n",
        "y = np.array([3.0, 6.0, 9.0, 12.0 ,15.0, 18.0, 21.0])\n",
        "plt.scatter(X, y)"
      ],
      "execution_count": null,
      "outputs": [
        {
          "output_type": "execute_result",
          "data": {
            "text/plain": [
              "<matplotlib.collections.PathCollection at 0x7f84e0007bd0>"
            ]
          },
          "metadata": {
            "tags": []
          },
          "execution_count": 2
        },
        {
          "output_type": "display_data",
          "data": {
            "image/png": "[encoded data removed]",
            "text/plain": [
              "<Figure size 432x288 with 1 Axes>"
            ]
          },
          "metadata": {
            "tags": [],
            "needs_background": "light"
          }
        }
      ]
    },
    {
      "cell_type": "code",
      "metadata": {
        "colab": {
          "base_uri": "https://localhost:8080/"
        },
        "id": "JE_N6BNEoctl",
        "outputId": "ec7f4f22-ec8d-482e-981f-ca4bb7c56e61"
      },
      "source": [
        "y == X + 10"
      ],
      "execution_count": null,
      "outputs": [
        {
          "output_type": "execute_result",
          "data": {
            "text/plain": [
              "array([ True,  True,  True,  True,  True,  True,  True])"
            ]
          },
          "metadata": {
            "tags": []
          },
          "execution_count": 3
        }
      ]
    },
    {
      "cell_type": "code",
      "metadata": {
        "id": "IGzy4AgkopG2"
      },
      "source": [
        "model = tf.keras.Sequential([\n",
        "        tf.keras.layers.Dense(100, activation=\"relu\"),\n",
        "        tf.keras.layers.Dense(100, activation=\"relu\"),\n",
        "        tf.keras.layers.Dense(100, activation=\"relu\"),\n",
        "        tf.keras.layers.Dense(1)\n",
        "        ])\n",
        "\n",
        "model.compile(loss = tf.losses.mae, optimizer = tf.keras.optimizers.Adam(learning_rate=0.003), metrics = [\"mae\"])\n",
        "model.fit(X, y, epochs = 100) "
      ],
      "execution_count": null,
      "outputs": []
    },
    {
      "cell_type": "code",
      "metadata": {
        "colab": {
          "base_uri": "https://localhost:8080/"
        },
        "id": "IZnnMykd9Nsi",
        "outputId": "dccda50b-69f2-4a20-8270-d8d509543dbb"
      },
      "source": [
        "model.predict([17.0])"
      ],
      "execution_count": null,
      "outputs": [
        {
          "output_type": "execute_result",
          "data": {
            "text/plain": [
              "array([[28.344751]], dtype=float32)"
            ]
          },
          "metadata": {
            "tags": []
          },
          "execution_count": 30
        }
      ]
    },
    {
      "cell_type": "code",
      "metadata": {
        "id": "Y73UpBItLC4_"
      },
      "source": [
        "X = tf.range(-100, 100, 4)\n",
        "y = X + 10"
      ],
      "execution_count": 3,
      "outputs": []
    },
    {
      "cell_type": "code",
      "metadata": {
        "colab": {
          "base_uri": "https://localhost:8080/",
          "height": 282
        },
        "id": "naqkWJRvLLuO",
        "outputId": "9c0edc47-04e6-41db-a146-caea3640f756"
      },
      "source": [
        "plt.scatter(X, y)"
      ],
      "execution_count": null,
      "outputs": [
        {
          "output_type": "execute_result",
          "data": {
            "text/plain": [
              "<matplotlib.collections.PathCollection at 0x7fafe2fe0b50>"
            ]
          },
          "metadata": {
            "tags": []
          },
          "execution_count": 4
        },
        {
          "output_type": "display_data",
          "data": {
            "image/png": "[encoded data removed]",
            "text/plain": [
              "<Figure size 432x288 with 1 Axes>"
            ]
          },
          "metadata": {
            "tags": [],
            "needs_background": "light"
          }
        }
      ]
    },
    {
      "cell_type": "markdown",
      "metadata": {
        "id": "abOlqxy3L3av"
      },
      "source": [
        "We want 3 different data sets for training a model. Training set(80%), Validation set(10%)(optional)\n",
        "Test set(10%)"
      ]
    },
    {
      "cell_type": "code",
      "metadata": {
        "colab": {
          "base_uri": "https://localhost:8080/"
        },
        "id": "-agTd8gaMNmf",
        "outputId": "f704ff19-e92b-4bcd-eb16-8b05400df085"
      },
      "source": [
        "X_train = X[:40]\n",
        "X_test = X[40:]\n",
        "y_train = y[:40]\n",
        "y_test = y[40:]\n",
        "len(X_train), len(X_test)"
      ],
      "execution_count": 5,
      "outputs": [
        {
          "output_type": "execute_result",
          "data": {
            "text/plain": [
              "(40, 10)"
            ]
          },
          "metadata": {
            "tags": []
          },
          "execution_count": 5
        }
      ]
    },
    {
      "cell_type": "code",
      "metadata": {
        "id": "Xbep1c2rNpcH"
      },
      "source": [
        "model_1 = tf.keras.Sequential(\n",
        "    [\n",
        "    tf.keras.layers.Dense(100, activation=\"relu\"),\n",
        "    tf.keras.layers.Dense(100, activation=\"relu\"),\n",
        "    tf.keras.layers.Dense(100, activation=\"relu\"),\n",
        "    tf.keras.layers.Dense(1)\n",
        "    ])\n",
        "\n",
        "model_1.compile(loss=tf.keras.losses.mae, optimizer=tf.optimizers.Adam(learning_rate=0.002), metrics=[\"mae\"])\n",
        "\n",
        "model_1.fit(X_train, y_train, epochs=200, verbose = 1)"
      ],
      "execution_count": null,
      "outputs": []
    },
    {
      "cell_type": "code",
      "metadata": {
        "id": "IBxzqjLOG0Jg"
      },
      "source": [
        "X_test"
      ],
      "execution_count": null,
      "outputs": []
    },
    {
      "cell_type": "code",
      "metadata": {
        "id": "ef2rV22QGdZQ"
      },
      "source": [
        "model_1.predict(X_test)"
      ],
      "execution_count": null,
      "outputs": []
    }
  ]
}